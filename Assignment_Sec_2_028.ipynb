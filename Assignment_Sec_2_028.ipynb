{
 "cells": [
  {
   "cell_type": "markdown",
   "metadata": {},
   "source": [
    "# Write a function called rectangle that takes two integers m and n as arguments and prints out an m × n box consisting of asterisks."
   ]
  },
  {
   "cell_type": "code",
   "execution_count": 11,
   "metadata": {},
   "outputs": [
    {
     "name": "stdout",
     "output_type": "stream",
     "text": [
      "Enter the value of m: 3\n",
      "Enter the value of n: 3\n",
      "***\n",
      "***\n",
      "***\n"
     ]
    }
   ],
   "source": [
    "def main():\n",
    "    m = input ('Enter the value of m: ')\n",
    "    n = input ('Enter the value of n: ')\n",
    "    rectangle(m,n)\n",
    "def rectangle(m,n):\n",
    "    for i in range (0,m):\n",
    "        print '*' * n\n",
    "    i = i + 1\n",
    "main()"
   ]
  },
  {
   "cell_type": "markdown",
   "metadata": {},
   "source": [
    "# Write a function called add_excitement that takes a list of strings and adds an exclamation point ( ! ) to the end of each string in the list. The program should modify the original list and not return anything."
   ]
  },
  {
   "cell_type": "code",
   "execution_count": 1,
   "metadata": {},
   "outputs": [
    {
     "name": "stdout",
     "output_type": "stream",
     "text": [
      "Enter your string list: Hi.My name is john.How are you.\n",
      "Hi!My!name!is!john!How!are!you!\n"
     ]
    }
   ],
   "source": [
    "import array\n",
    "array = []\n",
    "array1 = []\n",
    "def main():\n",
    "    slist = raw_input ('Enter your string list: ')\n",
    "    add_excitement(slist)\n",
    "def add_excitement(slist):\n",
    "    \n",
    "    array = slist.replace(\".\", \"!\")\n",
    "    array1 = array.replace(\" \", \"!\")\n",
    "    print array1\n",
    "main()"
   ]
  },
  {
   "cell_type": "markdown",
   "metadata": {},
   "source": [
    "# Write the same function except that it should not modify the original list and should instead return a new list."
   ]
  },
  {
   "cell_type": "code",
   "execution_count": 3,
   "metadata": {},
   "outputs": [
    {
     "name": "stdout",
     "output_type": "stream",
     "text": [
      "Enter the string list: Hi.My name is john.How are you.\n",
      "Hi!My!name!is!john!How!are!you!\n"
     ]
    }
   ],
   "source": [
    "import array\n",
    "array = []\n",
    "array1 =[]\n",
    "def add_excitement(slist):\n",
    "    array = slist.replace(\".\", \"!\")\n",
    "    array1 = array.replace(\" \", \"!\")\n",
    "    return array1\n",
    "def main():\n",
    "    slist= raw_input ('Enter the string list: ')\n",
    "    print add_excitement(slist)\n",
    "main()"
   ]
  },
  {
   "cell_type": "markdown",
   "metadata": {},
   "source": [
    "# The digital root of a number n is obtained as follows: Add up the digits n to get a new number. Add up the digits of that to get another new number. Keep doing this until you get a number that has only one digit. That number is the digital root. For example, if n = 45893 , we add up the digits to get 4 + 5 + 8 + 9 + 3 = 29 . We then add up the digits of 29 to get 2 + 9 = 11 . We then add up the digits of 11 to get 1 + 1 = 2 . Since 2 has only one digit, 2 is our digital root. Write a function that returns the digital root of an integer n . [Note: there is a shortcut, where the digital root is equal to n mod 9, but do not use that here.]"
   ]
  },
  {
   "cell_type": "code",
   "execution_count": 20,
   "metadata": {},
   "outputs": [
    {
     "name": "stdout",
     "output_type": "stream",
     "text": [
      "Enter your number: 45893\n",
      "Your Digital Root is 2\n"
     ]
    }
   ],
   "source": [
    "def main():\n",
    "    n = input ('Enter your number: ')\n",
    "    print \"\"\"Your Digital Root is\"\"\", validroot(n)\n",
    "def validroot(num):\n",
    "    if num < 10 :\n",
    "            return num\n",
    "    else :\n",
    "        while num >= 10: \n",
    "            sum = 0\n",
    "            while num / 10 != 0 :\n",
    "                sum = num % 10 + sum\n",
    "                num = num / 10\n",
    "            sum = sum + num\n",
    "            num = sum\n",
    "        return num\n",
    "main()"
   ]
  },
  {
   "cell_type": "markdown",
   "metadata": {},
   "source": [
    "# Write a function that takes an integer n and returns a random integer with exactly n digits. For instance, if n is 3, then 125 and 593 would be valid return values, but 093 would not because that is really 93, which is a two-digit number."
   ]
  },
  {
   "cell_type": "code",
   "execution_count": 19,
   "metadata": {},
   "outputs": [
    {
     "name": "stdout",
     "output_type": "stream",
     "text": [
      "Enter a number: 3\n",
      "The number is  216\n"
     ]
    }
   ],
   "source": [
    "def main():\n",
    "    n = input ('Enter a number: ')\n",
    "    print 'The number is ', digit(n)\n",
    "def digit(n):\n",
    "    m = 1\n",
    "    m1 = 0\n",
    "    c = 0\n",
    "    if n * n == n:\n",
    "        return n\n",
    "    else :\n",
    "        while c != n - 1:\n",
    "            c = 0\n",
    "            m = m * (n + n)\n",
    "            m1 = m\n",
    "            while m1 / 10 != 0:\n",
    "                m1 = m1 / 10\n",
    "                c = c + 1\n",
    "        return m\n",
    "main()     "
   ]
  },
  {
   "cell_type": "markdown",
   "metadata": {},
   "source": [
    "# Write a function called matches that takes two strings as arguments and returns how many matches there are between the strings. A match is where the two strings have the same character at the same index. For instance, ' python ' and ' path ' match in the first, third, and fourth characters, so the function should return 3."
   ]
  },
  {
   "cell_type": "code",
   "execution_count": 23,
   "metadata": {},
   "outputs": [
    {
     "name": "stdout",
     "output_type": "stream",
     "text": [
      "Enter First String: python\n",
      "Enter Second String: path\n",
      "3\n"
     ]
    }
   ],
   "source": [
    "def main():\n",
    "    str1 = raw_input ('Enter First String: ')\n",
    "    str2 = raw_input ('Enter Second String: ')\n",
    "    print matches(str1,str2)\n",
    "def matches(str1,str2):\n",
    "    c = 0\n",
    "    s1 = len(str1)\n",
    "    s2 = len(str2)\n",
    "    if s1 < s2:\n",
    "        for i in range (0,s1):\n",
    "            if str1[i] == str2[i]:\n",
    "                c = c + 1\n",
    "            i = i + 1\n",
    "    else:\n",
    "        for i in range (0,s2):\n",
    "            if str1[i] == str2[i]:\n",
    "                c = c + 1\n",
    "            i = i + 1\n",
    "    return c\n",
    "main()"
   ]
  },
  {
   "cell_type": "markdown",
   "metadata": {},
   "source": [
    "# Write a function called primes that is given a number n and returns a list of the first n primes. Let the default value of n be 100."
   ]
  },
  {
   "cell_type": "code",
   "execution_count": 10,
   "metadata": {},
   "outputs": [
    {
     "name": "stdout",
     "output_type": "stream",
     "text": [
      "Enter the value of n: 10\n",
      "[2, 3, 5, 7, 11, 13, 17, 19, 23, 29]\n"
     ]
    }
   ],
   "source": [
    "import array\n",
    "array = [ ]\n",
    "def main():\n",
    "    n = input ('Enter the value of n: ')\n",
    "    print primes(n)\n",
    "def primes(n):\n",
    "    i = 1\n",
    "    k = 0\n",
    "    while k < n:\n",
    "        flag = 0\n",
    "        for j in range (2,i+1):\n",
    "            if i % j == 0: \n",
    "                if i != j:\n",
    "                    flag = 0\n",
    "                    break\n",
    "                else :\n",
    "                    flag = 1\n",
    "            else :\n",
    "                    flag = 1\n",
    "            j = j + 1\n",
    "        if flag == 1:\n",
    "            array.append(i)\n",
    "            k = k + 1\n",
    "        i = i+1\n",
    "    return array\n",
    "main()"
   ]
  },
  {
   "cell_type": "markdown",
   "metadata": {},
   "source": [
    "# Recall that if s is a string, then s.find( ' a ' ) will find the location of the first a in s . The problem is that it does not find the location of every a. Write a function called findall that given a string and a single character, returns a list containing all of the locations of that character in the string. It should return an empty list if there are no occurrences of the character in the string.¶"
   ]
  },
  {
   "cell_type": "code",
   "execution_count": 8,
   "metadata": {},
   "outputs": [
    {
     "name": "stdout",
     "output_type": "stream",
     "text": [
      "Enter a string: python\n",
      "Enter a character: h\n",
      "[0, 0, 0, 4, 0, 0]\n"
     ]
    }
   ],
   "source": [
    "import array\n",
    "array =[]\n",
    "def main():\n",
    "    string = raw_input ('Enter a string: ')\n",
    "    char = raw_input ('Enter a character: ')\n",
    "    print Recall(string,char)\n",
    "def Recall(string,char):\n",
    "    i = 0\n",
    "    c = 0\n",
    "    l = len(string)\n",
    "    for i in range (i,l):\n",
    "        if string[i] == char:\n",
    "            array.append(i+1)\n",
    "        else :\n",
    "            array.append(0)\n",
    "        i = i + 1\n",
    "        c = c + 1\n",
    "    return array\n",
    "main()"
   ]
  },
  {
   "cell_type": "code",
   "execution_count": null,
   "metadata": {},
   "outputs": [],
   "source": []
  }
 ],
 "metadata": {
  "kernelspec": {
   "display_name": "Python 2",
   "language": "python",
   "name": "python2"
  },
  "language_info": {
   "codemirror_mode": {
    "name": "ipython",
    "version": 2
   },
   "file_extension": ".py",
   "mimetype": "text/x-python",
   "name": "python",
   "nbconvert_exporter": "python",
   "pygments_lexer": "ipython2",
   "version": "2.7.15"
  }
 },
 "nbformat": 4,
 "nbformat_minor": 2
}
